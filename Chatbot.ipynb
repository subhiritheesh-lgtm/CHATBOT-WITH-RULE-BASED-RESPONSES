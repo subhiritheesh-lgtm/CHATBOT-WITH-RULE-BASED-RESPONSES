{
 "cells": [
  {
   "cell_type": "code",
   "execution_count": 10,
   "id": "daa73a6e-4427-4103-8d10-008379a7d59a",
   "metadata": {},
   "outputs": [
    {
     "name": "stdout",
     "output_type": "stream",
     "text": [
      "🤖 Chatbot: Hello! I'm RuleBot, your smart assistant.\n"
     ]
    },
    {
     "name": "stdin",
     "output_type": "stream",
     "text": [
      "🤖 Chatbot: What's your name?\n",
      "You:  Subhiksha\n"
     ]
    },
    {
     "name": "stdout",
     "output_type": "stream",
     "text": [
      "🤖 Chatbot: Nice to meet you, Subhiksha! I'm here to chat with you. Type 'bye' anytime to end.\n",
      "\n"
     ]
    },
    {
     "name": "stdin",
     "output_type": "stream",
     "text": [
      "Subhiksha:  hi\n"
     ]
    },
    {
     "name": "stdout",
     "output_type": "stream",
     "text": [
      "🤖 Chatbot: Hey there! How are you today?\n"
     ]
    },
    {
     "name": "stdin",
     "output_type": "stream",
     "text": [
      "Subhiksha:  happy\n"
     ]
    },
    {
     "name": "stdout",
     "output_type": "stream",
     "text": [
      "🤖 Chatbot: Yay! Keep smiling and spread the joy! 😄\n"
     ]
    },
    {
     "name": "stdin",
     "output_type": "stream",
     "text": [
      "Subhiksha:  bye\n"
     ]
    },
    {
     "name": "stdout",
     "output_type": "stream",
     "text": [
      "🤖 Chatbot: Goodbye Subhiksha, take care! 👋\n"
     ]
    }
   ],
   "source": [
    "def chatbot():\n",
    "    print(\"🤖 Chatbot: Hello! I'm RuleBot, your smart assistant.\")\n",
    "    name = input(\"🤖 Chatbot: What's your name?\\nYou: \")\n",
    "    print(f\"🤖 Chatbot: Nice to meet you, {name}! I'm here to chat with you. Type 'bye' anytime to end.\\n\")\n",
    "\n",
    "    while True:\n",
    "        user = input(f\"{name}: \").lower()\n",
    "        if \"bye\" in user:\n",
    "            print(f\"🤖 Chatbot: Goodbye {name}, take care! 👋\")\n",
    "            break\n",
    "            \n",
    "        elif any(word in user for word in [\"hi\", \"hello\", \"hey\"]):\n",
    "            print(\"🤖 Chatbot: Hey there! How are you today?\")\n",
    "            \n",
    "        elif \"sad\" in user:\n",
    "            print(\"🤖 Chatbot: It's okay to feel sad. I'm always here to listen. ❤️\")\n",
    "            \n",
    "        elif \"happy\" in user:\n",
    "            print(\"🤖 Chatbot: Yay! Keep smiling and spread the joy! 😄\")\n",
    "            \n",
    "        elif \"bored\" in user:\n",
    "            print(\"🤖 Chatbot: Want a fun fact or a joke to cheer up?\")\n",
    "            \n",
    "        elif \"joke\" in user:\n",
    "            print(\"🤖 Chatbot: Why don’t scientists trust atoms? Because they make up everything! 😆\")\n",
    "            \n",
    "        elif \"fact\" in user:\n",
    "            print(\"🤖 Chatbot: Did you know? The Eiffel Tower can grow taller in summer!\")\n",
    "            \n",
    "        elif \"movie\" in user:\n",
    "            print(\"🤖 Chatbot: I love sci-fi! What's your favorite movie?\")\n",
    "            \n",
    "        elif \"music\" in user:\n",
    "            print(\"🤖 Chatbot: I enjoy Tamil melodies and lo-fi English too! You?\")\n",
    "            \n",
    "        elif \"your name\" in user:\n",
    "            print(\"🤖 Chatbot: I'm RuleBot, built by Subhiksha 💚\")\n",
    "            \n",
    "        elif \"thank\" in user:\n",
    "            print(\"🤖 Chatbot: You're always welcome! 😊\")\n",
    "            \n",
    "        elif \"help\" in user:\n",
    "            print(\"🤖 Chatbot: Ask me anything about mood, movies, music, or just say hi!\")\n",
    "            \n",
    "        else:\n",
    "            print(\"🤖 Chatbot: Hmm, I’m not sure I understand. Can you try saying it differently?\")\n",
    "\n",
    "# Start the chatbot\n",
    "chatbot()\n"
   ]
  },
  {
   "cell_type": "code",
   "execution_count": null,
   "id": "ee5c3e7d-99e9-44ef-b135-dde8084a2ce0",
   "metadata": {},
   "outputs": [],
   "source": []
  }
 ],
 "metadata": {
  "kernelspec": {
   "display_name": "Python 3 (ipykernel)",
   "language": "python",
   "name": "python3"
  },
  "language_info": {
   "codemirror_mode": {
    "name": "ipython",
    "version": 3
   },
   "file_extension": ".py",
   "mimetype": "text/x-python",
   "name": "python",
   "nbconvert_exporter": "python",
   "pygments_lexer": "ipython3",
   "version": "3.13.5"
  }
 },
 "nbformat": 4,
 "nbformat_minor": 5
}
